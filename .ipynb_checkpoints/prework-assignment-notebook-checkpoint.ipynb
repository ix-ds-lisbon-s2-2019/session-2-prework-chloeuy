{
 "cells": [
  {
   "cell_type": "markdown",
   "metadata": {},
   "source": [
    "# Prework Assignment"
   ]
  },
  {
   "cell_type": "markdown",
   "metadata": {},
   "source": [
    "### General Background Questions"
   ]
  },
  {
   "cell_type": "markdown",
   "metadata": {},
   "source": [
    "1. Why is version control important in science?"
   ]
  },
  {
   "cell_type": "code",
   "execution_count": 1,
   "metadata": {},
   "outputs": [],
   "source": [
    "#Git allows for a more comprehensive and transparent workspace wherein the actions of each individual author can be tracked and accounted for. This enables authors to work on branches of a repository without having to wait on coauthors. Git also ensures that projects have safeguards against short term loss."
   ]
  },
  {
   "cell_type": "markdown",
   "metadata": {},
   "source": [
    "2. What kind of research artifacts can we track with Git?"
   ]
  },
  {
   "cell_type": "code",
   "execution_count": 1,
   "metadata": {},
   "outputs": [],
   "source": [
    "#manuscripts, notes, lab notebookes, datasets, statistical code and figures "
   ]
  },
  {
   "cell_type": "markdown",
   "metadata": {},
   "source": [
    "3. What are the three main things that can go wrong in a data science project?"
   ]
  },
  {
   "cell_type": "code",
   "execution_count": 1,
   "metadata": {},
   "outputs": [],
   "source": [
    "#The three main things that can go wrong in a data science project include data not being what you wanted, a faulty model, or an incorrect problem being solved. "
   ]
  },
  {
   "cell_type": "markdown",
   "metadata": {},
   "source": [
    "### Python Background Questions"
   ]
  },
  {
   "cell_type": "markdown",
   "metadata": {},
   "source": [
    "These short exercises are a way to familiarize yourself with python. If you find these exercises too difficult, don’t worry! We will review the basics the first day to make sure we are all comfortable coding in Python.\n",
    "\n",
    "Please save your work in this document and `git push` them to the `prework-assignment` repo.\n",
    "\n",
    "----------------------------------------------------------------"
   ]
  },
  {
   "cell_type": "markdown",
   "metadata": {},
   "source": [
    "### Problem 1: Basic Operations"
   ]
  },
  {
   "cell_type": "markdown",
   "metadata": {},
   "source": [
    "You are at Vanessa's Vegan Cafe and you loved it so much you wanna leave a tip. Write a function that takes the amount owed and calculates how much money you pay with an 18% tip. If functions still scare you, just the solution code will do."
   ]
  },
  {
   "cell_type": "code",
   "execution_count": 7,
   "metadata": {},
   "outputs": [],
   "source": [
    "def amtowed(): \n",
    "    aOwed = float(input())\n",
    "    return aOwed*1.18  "
   ]
  },
  {
   "cell_type": "markdown",
   "metadata": {},
   "source": [
    "----------------------------------------------------------------"
   ]
  },
  {
   "cell_type": "markdown",
   "metadata": {},
   "source": [
    "### Problem 2: Lists"
   ]
  },
  {
   "cell_type": "markdown",
   "metadata": {},
   "source": [
    "I have a fortune cookie that says my lucky numbers are:\n",
    "\n",
    "       [23, 54, 6, 8, 10078, 3]\n",
    "\n",
    "Write a function that returns 3 lists (if functions still scare you, just the solution code will do)\n",
    "   - replace the number 6 with 1\n",
    "   - the above list in decreasing order\n",
    "   - all values greater than 15"
   ]
  },
  {
   "cell_type": "code",
   "execution_count": 8,
   "metadata": {
    "scrolled": true
   },
   "outputs": [],
   "source": [
    "def fortuneC():\n",
    "    a = [23,54,6,8,10078,3]\n",
    "    for i in range(len(a)):\n",
    "        if a[i] == 6:\n",
    "            a[i]= 3\n",
    "    \n",
    "    l = [23,54,6,8,10078,3]\n",
    "    l.sort(reverse=True)\n",
    "    \n",
    "    t = [23,54,6,8,10078,3]\n",
    "    n = []\n",
    "    for  i in range(len(t)):\n",
    "        if t[i] > 15:\n",
    "            n+=[t[i]]\n",
    "    \n",
    "    return a,l,n\n"
   ]
  },
  {
   "cell_type": "markdown",
   "metadata": {},
   "source": [
    "----------------------------------------------------------------"
   ]
  },
  {
   "cell_type": "markdown",
   "metadata": {},
   "source": [
    "### Problem 3: Basic Operations"
   ]
  },
  {
   "cell_type": "markdown",
   "metadata": {},
   "source": [
    "Let's now take the first step in coding some real data science. Write a statement that loads the `numpy` library into the interpreter and gives it an alias of `np`."
   ]
  },
  {
   "cell_type": "code",
   "execution_count": 1,
   "metadata": {},
   "outputs": [],
   "source": [
    "import numpy as np"
   ]
  },
  {
   "cell_type": "markdown",
   "metadata": {},
   "source": [
    "----------------------------------------------------------------"
   ]
  },
  {
   "cell_type": "markdown",
   "metadata": {},
   "source": [
    "### Problem 4: Numpy"
   ]
  },
  {
   "cell_type": "markdown",
   "metadata": {},
   "source": [
    "Generated a 10x10 `numpy` array with random numbers and slice the array to get the 2nd and 3rd column. Also calculate the average of 6th column using `numpy`."
   ]
  },
  {
   "cell_type": "code",
   "execution_count": 10,
   "metadata": {},
   "outputs": [
    {
     "name": "stdout",
     "output_type": "stream",
     "text": [
      "[[0.1832485  0.71582347 0.02614464 0.23435794 0.04935216 0.41551423\n",
      "  0.6378007  0.38872108 0.5358401  0.90223929]\n",
      " [0.22606697 0.10718386 0.32424657 0.86783649 0.55701519 0.3684991\n",
      "  0.52220631 0.95855868 0.41687827 0.71930357]\n",
      " [0.88226061 0.10146591 0.09312312 0.7464097  0.18642908 0.54039646\n",
      "  0.91821629 0.49321448 0.85073932 0.93098505]\n",
      " [0.36910468 0.62443065 0.37541981 0.30107548 0.42884119 0.27301303\n",
      "  0.29619282 0.08361814 0.56906296 0.24037847]\n",
      " [0.89886466 0.27596982 0.11136985 0.40973929 0.10505776 0.14655181\n",
      "  0.33349653 0.47244896 0.75142193 0.10073589]\n",
      " [0.37952761 0.7416147  0.1770824  0.41702716 0.24249271 0.56816194\n",
      "  0.50195606 0.97637776 0.65753605 0.42196078]\n",
      " [0.94745597 0.41294433 0.81269702 0.41306934 0.73366189 0.37731279\n",
      "  0.69315946 0.3144067  0.69186616 0.61700709]\n",
      " [0.84307344 0.58120694 0.91374578 0.59100008 0.77758155 0.85791006\n",
      "  0.78902832 0.1236038  0.93814133 0.78582738]\n",
      " [0.32711084 0.81505599 0.41199975 0.15885758 0.37402722 0.34843172\n",
      "  0.88101426 0.95903717 0.76131532 0.62405304]\n",
      " [0.77452031 0.56888945 0.75269958 0.46779471 0.04002711 0.02368206\n",
      "  0.04696411 0.89410235 0.51289282 0.94046858]]\n",
      "[[0.41551423]\n",
      " [0.3684991 ]\n",
      " [0.54039646]\n",
      " [0.27301303]\n",
      " [0.14655181]\n",
      " [0.56816194]\n",
      " [0.37731279]\n",
      " [0.85791006]\n",
      " [0.34843172]\n",
      " [0.02368206]]\n",
      "0.3919473193621839\n"
     ]
    }
   ],
   "source": [
    "import numpy as np\n",
    "x=np.random.random((10,10))\n",
    "x[:,[2,3]]\n",
    "a=x[:,5:6]\n",
    "average=np.mean(a)\n",
    "print(average)\n",
    "\n",
    "\n"
   ]
  },
  {
   "cell_type": "markdown",
   "metadata": {},
   "source": [
    "----------------------------------------------------------------"
   ]
  },
  {
   "cell_type": "markdown",
   "metadata": {},
   "source": [
    "##### That's it! We look forward to seeing you in class!"
   ]
  }
 ],
 "metadata": {
  "kernelspec": {
   "display_name": "Python 3",
   "language": "python",
   "name": "python3"
  },
  "language_info": {
   "codemirror_mode": {
    "name": "ipython",
    "version": 3
   },
   "file_extension": ".py",
   "mimetype": "text/x-python",
   "name": "python",
   "nbconvert_exporter": "python",
   "pygments_lexer": "ipython3",
   "version": "3.7.3"
  }
 },
 "nbformat": 4,
 "nbformat_minor": 2
}
